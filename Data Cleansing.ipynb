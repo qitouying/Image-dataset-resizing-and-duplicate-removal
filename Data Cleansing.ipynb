{
 "cells": [
  {
   "cell_type": "code",
   "execution_count": 1,
   "metadata": {},
   "outputs": [],
   "source": [
    "import os\n",
    "import pandas as pd\n",
    "from PIL import Image\n",
    "import imagehash"
   ]
  },
  {
   "cell_type": "code",
   "execution_count": 9,
   "metadata": {},
   "outputs": [],
   "source": [
    "dataset = ['train', 'validation', 'test']\n",
    "brands = ['adidas', 'nike']\n",
    "\n",
    "df = pd.DataFrame(columns=['Dataset', 'Brand', 'Image', 'Image Size'])\n",
    "\n",
    "for i in dataset:\n",
    "    initialfilepath = f\"./archive/{i}\"\n",
    "    for j in brands:\n",
    "        filepath = f\"{initialfilepath}/{j}/\"\n",
    "        for filename in os.listdir(filepath):\n",
    "            f = os.path.join(filepath,filename)\n",
    "            if os.path.isfile(f):\n",
    "                im = Image.open(f\"{f}\")\n",
    " \n",
    "                df.loc[df.shape[0]] = [i, j, filename, str(im.size)]"
   ]
  },
  {
   "cell_type": "code",
   "execution_count": 8,
   "metadata": {},
   "outputs": [
    {
     "data": {
      "text/html": [
       "<div>\n",
       "<style scoped>\n",
       "    .dataframe tbody tr th:only-of-type {\n",
       "        vertical-align: middle;\n",
       "    }\n",
       "\n",
       "    .dataframe tbody tr th {\n",
       "        vertical-align: top;\n",
       "    }\n",
       "\n",
       "    .dataframe thead th {\n",
       "        text-align: right;\n",
       "    }\n",
       "</style>\n",
       "<table border=\"1\" class=\"dataframe\">\n",
       "  <thead>\n",
       "    <tr style=\"text-align: right;\">\n",
       "      <th></th>\n",
       "      <th>Dataset</th>\n",
       "      <th>Brand</th>\n",
       "      <th>Image</th>\n",
       "      <th>Image Size</th>\n",
       "    </tr>\n",
       "  </thead>\n",
       "  <tbody>\n",
       "    <tr>\n",
       "      <th>0</th>\n",
       "      <td>train</td>\n",
       "      <td>adidas</td>\n",
       "      <td>aadidas_ (22).jpg</td>\n",
       "      <td>(224, 224)</td>\n",
       "    </tr>\n",
       "    <tr>\n",
       "      <th>1</th>\n",
       "      <td>train</td>\n",
       "      <td>adidas</td>\n",
       "      <td>aadidas_ (23).jpg</td>\n",
       "      <td>(224, 224)</td>\n",
       "    </tr>\n",
       "    <tr>\n",
       "      <th>2</th>\n",
       "      <td>train</td>\n",
       "      <td>adidas</td>\n",
       "      <td>aadidas_ (24).jpg</td>\n",
       "      <td>(683, 683)</td>\n",
       "    </tr>\n",
       "    <tr>\n",
       "      <th>3</th>\n",
       "      <td>train</td>\n",
       "      <td>adidas</td>\n",
       "      <td>Adidas (1).jpg</td>\n",
       "      <td>(224, 224)</td>\n",
       "    </tr>\n",
       "    <tr>\n",
       "      <th>4</th>\n",
       "      <td>train</td>\n",
       "      <td>adidas</td>\n",
       "      <td>Adidas (10).jpg</td>\n",
       "      <td>(224, 224)</td>\n",
       "    </tr>\n",
       "  </tbody>\n",
       "</table>\n",
       "</div>"
      ],
      "text/plain": [
       "  Dataset   Brand              Image  Image Size\n",
       "0   train  adidas  aadidas_ (22).jpg  (224, 224)\n",
       "1   train  adidas  aadidas_ (23).jpg  (224, 224)\n",
       "2   train  adidas  aadidas_ (24).jpg  (683, 683)\n",
       "3   train  adidas     Adidas (1).jpg  (224, 224)\n",
       "4   train  adidas    Adidas (10).jpg  (224, 224)"
      ]
     },
     "execution_count": 8,
     "metadata": {},
     "output_type": "execute_result"
    }
   ],
   "source": [
    "df.head()"
   ]
  },
  {
   "cell_type": "code",
   "execution_count": 12,
   "metadata": {},
   "outputs": [
    {
     "data": {
      "text/plain": [
       "('Training: (460, 4)', 'Validation: (55, 4)', 'Testing: (60, 4)')"
      ]
     },
     "execution_count": 12,
     "metadata": {},
     "output_type": "execute_result"
    }
   ],
   "source": [
    "f\"Training: {df[df.Dataset == 'train'].shape}\", f\"Validation: {df[df.Dataset == 'validation'].shape}\", f\"Testing: {df[df.Dataset == 'test'].shape}\""
   ]
  },
  {
   "cell_type": "code",
   "execution_count": 7,
   "metadata": {},
   "outputs": [
    {
     "data": {
      "text/plain": [
       "(array(['(224, 224)', '(683, 683)', '(970, 546)', '(1200, 676)',\n",
       "        '(285, 300)', '(700, 483)', '(1625, 825)', '(651, 497)',\n",
       "        '(2560, 1920)', '(375, 500)', '(240, 240)', '(510, 340)',\n",
       "        '(600, 800)', '(250, 250)', '(250, 248)', '(300, 401)',\n",
       "        '(880, 650)', '(540, 540)', '(1253, 705)', '(400, 225)',\n",
       "        '(250, 300)', '(332, 218)', '(640, 796)', '(966, 725)',\n",
       "        '(332, 230)', '(332, 198)', '(1686, 1124)'], dtype=object),\n",
       " 27,\n",
       " 36)"
      ]
     },
     "execution_count": 7,
     "metadata": {},
     "output_type": "execute_result"
    }
   ],
   "source": [
    "df['Image Size'].unique(), len(df['Image Size'].unique()), len(df[df['Image Size'] != '(224, 224)'])"
   ]
  },
  {
   "cell_type": "code",
   "execution_count": 5,
   "metadata": {},
   "outputs": [
    {
     "name": "stderr",
     "output_type": "stream",
     "text": [
      "c:\\Users\\qitou\\anaconda3\\lib\\site-packages\\PIL\\Image.py:959: UserWarning: Palette images with Transparency expressed in bytes should be converted to RGBA images\n",
      "  warnings.warn(\n"
     ]
    }
   ],
   "source": [
    "filesize = (256, 256)\n",
    "dataset = ['train', 'validation', 'test']\n",
    "brands = ['adidas', 'nike']\n",
    "\n",
    "os.mkdir('resized')\n",
    "for i in dataset:\n",
    "    os.mkdir(f'./resized/{i}')\n",
    "    initialfilepath = f\"./archive/{i}\"\n",
    "    newinitialfilepath = f\"./resized/{i}\"\n",
    "    for j in brands:\n",
    "        os.mkdir(f'resized/{i}/{j}')\n",
    "        filepath = f\"{initialfilepath}/{j}/\"\n",
    "        newfilepath = f\"{newinitialfilepath}/{j}/\"\n",
    "        for filename in os.listdir(filepath):\n",
    "            f = os.path.join(filepath,filename)\n",
    "            newf = f\"{newfilepath}{filename}\"\n",
    "            if os.path.isfile(f):\n",
    "                im = Image.open(f\"{f}\")\n",
    "                \n",
    "                # Resize and convert to RGB to be saved as jpg\n",
    "                resizeim = im.resize(filesize).convert('RGB')\n",
    "                resizeim = resizeim.save(newf)             "
   ]
  },
  {
   "cell_type": "code",
   "execution_count": 4,
   "metadata": {},
   "outputs": [],
   "source": [
    "# class DuplicateRemover:\n",
    "#     def __init__(self,dirname,hash_size = 8):\n",
    "#         self.dirname = dirname\n",
    "#         self.hash_size = hash_size\n",
    "        \n",
    "hashsize=9\n",
    "def find_duplicates(dirname, hash_size=8):\n",
    "    \"\"\"\n",
    "    Find and Delete Duplicates\n",
    "    \"\"\"\n",
    "    \n",
    "    fnames = os.listdir(dirname)\n",
    "    hashes = {}\n",
    "    duplicates = []\n",
    "    print(\"Finding Duplicates Now!\\n\")\n",
    "    for image in fnames:\n",
    "        with Image.open(os.path.join(dirname,image)) as img:\n",
    "            temp_hash = imagehash.average_hash(img, hash_size)\n",
    "            if temp_hash in hashes:\n",
    "                print(\"Duplicate {} \\nfound for Image {}!\\n\".format(image,hashes[temp_hash]))\n",
    "                duplicates.append(image)\n",
    "            else:\n",
    "                hashes[temp_hash] = image\n",
    "                \n",
    "    if len(duplicates) != 0:\n",
    "        a = input(\"Do you want to delete these {} Images? Press Y or N:  \".format(len(duplicates)))\n",
    "        space_saved = 0\n",
    "        if(a.strip().lower() == \"y\"):\n",
    "            for duplicate in duplicates:\n",
    "                space_saved += os.path.getsize(os.path.join(dirname,duplicate))\n",
    "                \n",
    "                os.remove(os.path.join(dirname,duplicate))\n",
    "                print(\"{} Deleted Succesfully!\".format(duplicate))\n",
    "\n",
    "            print(\"\\n\\nYou saved {} mb of Space!\".format(round(space_saved/1000000)))\n",
    "        else:\n",
    "            print(\"Thank you for Using Duplicate Remover\")\n",
    "    else:\n",
    "        print(\"No Duplicates Found\")"
   ]
  },
  {
   "cell_type": "code",
   "execution_count": 5,
   "metadata": {},
   "outputs": [
    {
     "name": "stdout",
     "output_type": "stream",
     "text": [
      "Finding Duplicates Now!\n",
      "\n",
      "Duplicate Adidas (2).jpg \n",
      "found for Image Adidas (1).jpg!\n",
      "\n",
      "Duplicate Adidas (29).jpg \n",
      "found for Image Adidas (12).jpg!\n",
      "\n",
      "Duplicate Adidas (30).jpg \n",
      "found for Image Adidas (13).jpg!\n",
      "\n",
      "Duplicate Adidas (31).jpg \n",
      "found for Image Adidas (14).jpg!\n",
      "\n",
      "Duplicate Adidas (32).jpg \n",
      "found for Image Adidas (15).jpg!\n",
      "\n",
      "Duplicate adidas_ (136).jpg \n",
      "found for Image adidas_ (124).jpg!\n",
      "\n",
      "Duplicate adidas_ (143).jpg \n",
      "found for Image adidas_ (124).jpg!\n",
      "\n",
      "Duplicate adidas_ (29).jpg \n",
      "found for Image adidas_ (124).jpg!\n",
      "\n",
      "Duplicate adidas_ (46).jpg \n",
      "found for Image adidas_ (119).jpg!\n",
      "\n",
      "Duplicate adidas_ (47).jpg \n",
      "found for Image adidas_ (119).jpg!\n",
      "\n",
      "Duplicate adidas_ (49).jpg \n",
      "found for Image adidas_ (124).jpg!\n",
      "\n",
      "Duplicate adidas_ (52).jpg \n",
      "found for Image adidas_ (124).jpg!\n",
      "\n",
      "Duplicate adidas_ (55).jpg \n",
      "found for Image adidas_ (119).jpg!\n",
      "\n",
      "Duplicate adidas_ (56).jpg \n",
      "found for Image adidas_ (53).jpg!\n",
      "\n",
      "Duplicate adidas_ (66).jpg \n",
      "found for Image adidas_ (119).jpg!\n",
      "\n",
      "Duplicate adidas_ (69).jpg \n",
      "found for Image adidas_ (39).jpg!\n",
      "\n",
      "Duplicate adidas_ (70).jpg \n",
      "found for Image adidas_ (124).jpg!\n",
      "\n",
      "Duplicate adidas_ (78).jpg \n",
      "found for Image adidas_ (124).jpg!\n",
      "\n",
      "Duplicate adidas_ (88).jpg \n",
      "found for Image adidas_ (124).jpg!\n",
      "\n",
      "Duplicate adidas_ (96).jpg \n",
      "found for Image adidas_ (119).jpg!\n",
      "\n",
      "Adidas (2).jpg Deleted Succesfully!\n",
      "Adidas (29).jpg Deleted Succesfully!\n",
      "Adidas (30).jpg Deleted Succesfully!\n",
      "Adidas (31).jpg Deleted Succesfully!\n",
      "Adidas (32).jpg Deleted Succesfully!\n",
      "adidas_ (136).jpg Deleted Succesfully!\n",
      "adidas_ (143).jpg Deleted Succesfully!\n",
      "adidas_ (29).jpg Deleted Succesfully!\n",
      "adidas_ (46).jpg Deleted Succesfully!\n",
      "adidas_ (47).jpg Deleted Succesfully!\n",
      "adidas_ (49).jpg Deleted Succesfully!\n",
      "adidas_ (52).jpg Deleted Succesfully!\n",
      "adidas_ (55).jpg Deleted Succesfully!\n",
      "adidas_ (56).jpg Deleted Succesfully!\n",
      "adidas_ (66).jpg Deleted Succesfully!\n",
      "adidas_ (69).jpg Deleted Succesfully!\n",
      "adidas_ (70).jpg Deleted Succesfully!\n",
      "adidas_ (78).jpg Deleted Succesfully!\n",
      "adidas_ (88).jpg Deleted Succesfully!\n",
      "adidas_ (96).jpg Deleted Succesfully!\n",
      "\n",
      "\n",
      "You saved 0 mb of Space!\n"
     ]
    }
   ],
   "source": [
    "find_duplicates('./resized/train/adidas/')"
   ]
  },
  {
   "cell_type": "code",
   "execution_count": null,
   "metadata": {},
   "outputs": [],
   "source": []
  }
 ],
 "metadata": {
  "kernelspec": {
   "display_name": "base",
   "language": "python",
   "name": "python3"
  },
  "language_info": {
   "codemirror_mode": {
    "name": "ipython",
    "version": 3
   },
   "file_extension": ".py",
   "mimetype": "text/x-python",
   "name": "python",
   "nbconvert_exporter": "python",
   "pygments_lexer": "ipython3",
   "version": "3.9.13"
  },
  "orig_nbformat": 4,
  "vscode": {
   "interpreter": {
    "hash": "c67ea372ec86b8a9a52f709634252e58dda2b1eb135d3f7160225db036a3a5df"
   }
  }
 },
 "nbformat": 4,
 "nbformat_minor": 2
}
